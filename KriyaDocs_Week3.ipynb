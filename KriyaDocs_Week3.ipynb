{
  "nbformat": 4,
  "nbformat_minor": 0,
  "metadata": {
    "colab": {
      "provenance": [],
      "authorship_tag": "ABX9TyNkmTGa5Z9O3q1KNduRae7H"
    },
    "kernelspec": {
      "name": "python3",
      "display_name": "Python 3"
    },
    "language_info": {
      "name": "python"
    }
  },
  "cells": [
    {
      "cell_type": "code",
      "execution_count": 1,
      "metadata": {
        "colab": {
          "base_uri": "https://localhost:8080/"
        },
        "id": "Gb3oNjrxYXnm",
        "outputId": "8bf73aaf-fcca-4a10-a9d9-42a312fb833a"
      },
      "outputs": [
        {
          "output_type": "stream",
          "name": "stdout",
          "text": [
            "hello world\n"
          ]
        }
      ],
      "source": [
        "print(\"hello world\")"
      ]
    },
    {
      "cell_type": "code",
      "source": [
        "# Given a list of words, return a dictionary where the keys are the words and the values are the number of times the word appears in the list.\n",
        "\n",
        "def CountOccurence(my_list):\n",
        "    freq = {}\n",
        "    for item in my_list:\n",
        "        if (item in freq):\n",
        "            freq[item] += 1\n",
        "        else:\n",
        "            freq[item] = 1\n",
        " \n",
        "    for key, value in freq.items():\n",
        "        print (\"%s : %s\"%(key, value))\n",
        "\n",
        "CountOccurence(['abc','abc','bac','adw','adw','bac','hello','wello'])"
      ],
      "metadata": {
        "colab": {
          "base_uri": "https://localhost:8080/"
        },
        "id": "OJCFkckkYaQd",
        "outputId": "3cd28074-12e2-43d1-d423-f816a269602c"
      },
      "execution_count": 10,
      "outputs": [
        {
          "output_type": "stream",
          "name": "stdout",
          "text": [
            "abc : 2\n",
            "bac : 2\n",
            "adw : 2\n",
            "hello : 1\n",
            "wello : 1\n"
          ]
        }
      ]
    },
    {
      "cell_type": "code",
      "source": [
        "# Given a list of words, return a dictionary where the keys are the words and the values are the number of letters in the word.\n",
        "\n",
        "def wordCount(my_list):\n",
        "  freq={}\n",
        "  for item in my_list:\n",
        "    if (item in freq):\n",
        "      continue\n",
        "    else:\n",
        "      freq[item]=len(item)\n",
        "\n",
        "  for key,value in freq.items():\n",
        "    print(\"%s : %s\"%(key,value))\n",
        "\n",
        "\n",
        "wordCount(['abc','abc','bac','adw','adw','bac','hello','wello'])"
      ],
      "metadata": {
        "colab": {
          "base_uri": "https://localhost:8080/"
        },
        "id": "ccPCyAVqbIU9",
        "outputId": "90503aa9-2f21-4c20-cf79-aabf4199cfe5"
      },
      "execution_count": 13,
      "outputs": [
        {
          "output_type": "stream",
          "name": "stdout",
          "text": [
            "abc : 3\n",
            "bac : 3\n",
            "adw : 3\n",
            "hello : 5\n",
            "wello : 5\n"
          ]
        }
      ]
    },
    {
      "cell_type": "code",
      "source": [
        "# Given a list of words, return a dictionary where the keys are the words and the values are the number of vowels in the word.\n",
        "\n",
        "#Reference: https://stackoverflow.com/questions/32569722/creating-a-dictionary-from-a-string-where-the-values-are-the-vowel-counts-from-e#:~:text=vowel_count%20%3D%20%7Bi%3A%20sum(c.lower()%20in%20%27aeiou%27%20for%20c%20in%20i)%20for%20i%20in%20split%7D\n",
        "\n",
        "m_list=['abc','abc','bac','adw','adw','bac','hello','wello']\n",
        "vowel_count = {i: sum(c.lower() in 'aeiou' for c in i) for i in m_list}\n",
        "\n",
        "vowel_count"
      ],
      "metadata": {
        "colab": {
          "base_uri": "https://localhost:8080/"
        },
        "id": "UWzM50jjfUte",
        "outputId": "299b9c71-0452-49cc-f7b4-e61897e931d2"
      },
      "execution_count": 24,
      "outputs": [
        {
          "output_type": "execute_result",
          "data": {
            "text/plain": [
              "{'abc': 1, 'bac': 1, 'adw': 1, 'hello': 2, 'wello': 2}"
            ]
          },
          "metadata": {},
          "execution_count": 24
        }
      ]
    },
    {
      "cell_type": "code",
      "source": [
        "# Redo one with all the punctuation removed and all words lower cased.\n",
        "\n",
        "def CountOccurence(my_list):\n",
        "    freq = {}\n",
        "    for item in my_list:\n",
        "        item=item.translate(str.maketrans('','',',?!.'))\n",
        "        item=item.lower()\n",
        "        if(item in freq):\n",
        "            freq[item] += 1\n",
        "        else:\n",
        "            freq[item] = 1\n",
        " \n",
        "    for key, value in freq.items():\n",
        "        print (\"%s : %s\"%(key, value))\n",
        "\n",
        "CountOccurence(['aBc','abc','Bac','adW','adw','bac','hello','wello','AbC!!'])"
      ],
      "metadata": {
        "colab": {
          "base_uri": "https://localhost:8080/"
        },
        "id": "npqdvZO8g3KI",
        "outputId": "54dbc788-2e81-456e-910c-73237c896fbc"
      },
      "execution_count": 35,
      "outputs": [
        {
          "output_type": "stream",
          "name": "stdout",
          "text": [
            "abc : 3\n",
            "bac : 2\n",
            "adw : 2\n",
            "hello : 1\n",
            "wello : 1\n"
          ]
        }
      ]
    },
    {
      "cell_type": "code",
      "source": [
        "# Given some text (containing multiple sentences) find the frequency of bigrams (pairs of words) and trigrams (triple words)\n",
        "\n",
        "#References:\n",
        "# https://www.datasciencelearner.com/count-bigrams-in-nltk-stepwise-solution/\n",
        "# https://stackoverflow.com/questions/17531684/n-grams-in-python-four-five-six-grams\n",
        "import nltk\n",
        "from nltk import ngrams\n",
        "\n",
        "sentence = 'this is a this is a foo bar sentences and i want to ngramize it'\n",
        "\n",
        "bigrams = ngrams(sentence.split(), 2)\n",
        "trigrams=ngrams(sentence.split(), 3)\n",
        "\n",
        "frequency = nltk.FreqDist(bigrams)\n",
        "for key,value in frequency.items():\n",
        "    print(key,value)\n",
        "\n",
        "print('\\n\\n')\n",
        "frequency = nltk.FreqDist(trigrams)\n",
        "for key,value in frequency.items():\n",
        "    print(key,value)"
      ],
      "metadata": {
        "colab": {
          "base_uri": "https://localhost:8080/"
        },
        "id": "mPG60Dk9m_Yz",
        "outputId": "1a564703-9484-4133-dec7-734439d7f198"
      },
      "execution_count": 51,
      "outputs": [
        {
          "output_type": "stream",
          "name": "stdout",
          "text": [
            "('this', 'is') 2\n",
            "('is', 'a') 2\n",
            "('a', 'this') 1\n",
            "('a', 'foo') 1\n",
            "('foo', 'bar') 1\n",
            "('bar', 'sentences') 1\n",
            "('sentences', 'and') 1\n",
            "('and', 'i') 1\n",
            "('i', 'want') 1\n",
            "('want', 'to') 1\n",
            "('to', 'ngramize') 1\n",
            "('ngramize', 'it') 1\n",
            "\n",
            "\n",
            "\n",
            "('this', 'is', 'a') 2\n",
            "('is', 'a', 'this') 1\n",
            "('a', 'this', 'is') 1\n",
            "('is', 'a', 'foo') 1\n",
            "('a', 'foo', 'bar') 1\n",
            "('foo', 'bar', 'sentences') 1\n",
            "('bar', 'sentences', 'and') 1\n",
            "('sentences', 'and', 'i') 1\n",
            "('and', 'i', 'want') 1\n",
            "('i', 'want', 'to') 1\n",
            "('want', 'to', 'ngramize') 1\n",
            "('to', 'ngramize', 'it') 1\n"
          ]
        }
      ]
    },
    {
      "cell_type": "code",
      "source": [
        "# Write a generic function to create n grams (where n can be 1 to 5).\n",
        "import nltk\n",
        "from nltk import ngrams\n",
        "\n",
        "\n",
        "def nGram(sentence,n):\n",
        "  sixgrams = ngrams(sentence.split(), n)\n",
        "  frequency = nltk.FreqDist(sixgrams)\n",
        "  for key,value in frequency.items():\n",
        "      print(key,value)\n",
        "\n",
        "nGram('this is a foo bar sentences and i want to ngramize it',3)"
      ],
      "metadata": {
        "colab": {
          "base_uri": "https://localhost:8080/"
        },
        "id": "PY13B1bnvzWy",
        "outputId": "1a878a2a-1c23-47b4-9b14-fecfbd8066ec"
      },
      "execution_count": 53,
      "outputs": [
        {
          "output_type": "stream",
          "name": "stdout",
          "text": [
            "('this', 'is', 'a') 1\n",
            "('is', 'a', 'foo') 1\n",
            "('a', 'foo', 'bar') 1\n",
            "('foo', 'bar', 'sentences') 1\n",
            "('bar', 'sentences', 'and') 1\n",
            "('sentences', 'and', 'i') 1\n",
            "('and', 'i', 'want') 1\n",
            "('i', 'want', 'to') 1\n",
            "('want', 'to', 'ngramize') 1\n",
            "('to', 'ngramize', 'it') 1\n"
          ]
        }
      ]
    },
    {
      "cell_type": "code",
      "source": [],
      "metadata": {
        "id": "ju2feaxCxpg0"
      },
      "execution_count": null,
      "outputs": []
    }
  ]
}