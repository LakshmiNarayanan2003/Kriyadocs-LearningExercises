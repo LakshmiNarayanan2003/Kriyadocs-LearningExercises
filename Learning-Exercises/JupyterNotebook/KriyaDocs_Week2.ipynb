{
  "nbformat": 4,
  "nbformat_minor": 0,
  "metadata": {
    "colab": {
      "provenance": [],
      "authorship_tag": "ABX9TyMiGLrWIGEKVyX5K5jWtxtO"
    },
    "kernelspec": {
      "name": "python3",
      "display_name": "Python 3"
    },
    "language_info": {
      "name": "python"
    }
  },
  "cells": [
    {
      "cell_type": "code",
      "execution_count": 2,
      "metadata": {
        "colab": {
          "base_uri": "https://localhost:8080/"
        },
        "id": "ynjqkDtWpEfi",
        "outputId": "e5626904-959b-4679-c389-80bc1ffcd347"
      },
      "outputs": [
        {
          "output_type": "stream",
          "name": "stdout",
          "text": [
            "21\n"
          ]
        }
      ],
      "source": [
        "# Given a list of numbers, find the sum of all the elements in the list.\n",
        "a=[1,2,3,4,6,5]\n",
        "b=0\n",
        "for i in a:\n",
        "  b+=i\n",
        "\n",
        "print(b)"
      ]
    },
    {
      "cell_type": "code",
      "source": [
        "# Given a list of strings, find the longest string in the list.\n",
        "\n",
        "a=['abc','adwe','dweweqw','abcdefghijklmnopqrstuvwxyz']\n",
        "max_len=-1\n",
        "for i in a:\n",
        "  if len(i)>max_len:\n",
        "    max_len=len(i)\n",
        "    max=i\n",
        "\n",
        "print(max)"
      ],
      "metadata": {
        "colab": {
          "base_uri": "https://localhost:8080/"
        },
        "id": "_N6iacwppvmc",
        "outputId": "825bf2ab-e729-4b62-a8d2-8e11d019e23c"
      },
      "execution_count": 9,
      "outputs": [
        {
          "output_type": "stream",
          "name": "stdout",
          "text": [
            "abcdefghijklmnopqrstuvwxyz\n"
          ]
        }
      ]
    },
    {
      "cell_type": "code",
      "source": [
        "# Given a list of numbers, create a new list that contains only the even numbers from the original list.\n",
        "a=[1,2,3,4,5,6,7,8,9,10]\n",
        "b=[]\n",
        "\n",
        "for i in a:\n",
        "  if i%2==0:\n",
        "    b.append(i)\n",
        "\n",
        "print(b)"
      ],
      "metadata": {
        "colab": {
          "base_uri": "https://localhost:8080/"
        },
        "id": "w3SQ3NPIqmHa",
        "outputId": "a062e88d-7872-46c2-fce5-71c939c3d184"
      },
      "execution_count": 14,
      "outputs": [
        {
          "output_type": "stream",
          "name": "stdout",
          "text": [
            "[2, 4, 6, 8, 10]\n"
          ]
        }
      ]
    },
    {
      "cell_type": "code",
      "source": [
        "# Given a list of strings, create a new list that contains only the strings that start with the letter 'a'.\n",
        "a=['abc','apple','Arul','badwe','ceqw','dwdaw','AMG']\n",
        "b=[]\n",
        "\n",
        "for i in a:\n",
        "  if i[0]=='a' or i[0]=='A':\n",
        "    b.append(i)\n",
        "\n",
        "print(b)"
      ],
      "metadata": {
        "colab": {
          "base_uri": "https://localhost:8080/"
        },
        "id": "b1vyK_USrGW-",
        "outputId": "83c84274-895d-4a0a-d50b-369c8408828a"
      },
      "execution_count": 16,
      "outputs": [
        {
          "output_type": "stream",
          "name": "stdout",
          "text": [
            "['abc', 'apple', 'Arul', 'AMG']\n"
          ]
        }
      ]
    },
    {
      "cell_type": "code",
      "source": [
        "# Given a list of nested lists, create a new list that contains the sum of all the values in the nested lists.\n",
        "#  (using recursion)\n",
        "def sum_nestedlist(l):\n",
        "    total = 0\n",
        "    for j in range(len(l)):\n",
        "        if type(l[j]) == list :\n",
        "            total+= sum_nestedlist(l[j])\n",
        "        else:\n",
        "            total += l[j]  \n",
        "             \n",
        "    return total\n",
        "             \n",
        "print(sum_nestedlist([[1,2,3],[4,[5,6]],7]))"
      ],
      "metadata": {
        "colab": {
          "base_uri": "https://localhost:8080/"
        },
        "id": "BnPjw5Mqtqrd",
        "outputId": "c568e605-b642-4b4a-b0ad-64f2d0312e3f"
      },
      "execution_count": 17,
      "outputs": [
        {
          "output_type": "stream",
          "name": "stdout",
          "text": [
            "28\n"
          ]
        }
      ]
    },
    {
      "cell_type": "code",
      "source": [
        "# Print a nested list\n",
        "\n",
        "a=[[3.4,4],23,[3]]\n",
        "print(a)"
      ],
      "metadata": {
        "colab": {
          "base_uri": "https://localhost:8080/"
        },
        "id": "AVxkDqPS_Ef_",
        "outputId": "083d017f-b036-4f42-cc67-8acec48ca65f"
      },
      "execution_count": 18,
      "outputs": [
        {
          "output_type": "stream",
          "name": "stdout",
          "text": [
            "[[3.4, 4], 23, [3]]\n"
          ]
        }
      ]
    },
    {
      "cell_type": "code",
      "source": [
        "# Flatten a nested list\n",
        "my_list = [[1], [2, 3], [4, 5, 6, 7]]\n",
        "\n",
        "flat_list = []\n",
        "for sublist in my_list:\n",
        "    for num in sublist:\n",
        "        flat_list.append(num)\n",
        "\n",
        "print(flat_list)"
      ],
      "metadata": {
        "colab": {
          "base_uri": "https://localhost:8080/"
        },
        "id": "5wcrm1I8_Wsg",
        "outputId": "2628448f-87e4-49b3-a27d-4282b053f534"
      },
      "execution_count": 19,
      "outputs": [
        {
          "output_type": "stream",
          "name": "stdout",
          "text": [
            "[1, 2, 3, 4, 5, 6, 7]\n"
          ]
        }
      ]
    },
    {
      "cell_type": "code",
      "source": [
        "# Convert a nested list to a string\n",
        "\n",
        "my_list = [[1], [2, 3], [4, 5, 6, 7]]\n",
        "flat_list = []\n",
        "for sublist in my_list:\n",
        "    for num in sublist:\n",
        "        flat_list.append(num)\n",
        "\n",
        "string=str(flat_list)\n",
        "\n",
        "print(string)\n"
      ],
      "metadata": {
        "colab": {
          "base_uri": "https://localhost:8080/"
        },
        "id": "OiTiSjgyCZIr",
        "outputId": "0c2c1427-b9ac-4b8f-b1b5-3421e57528f4"
      },
      "execution_count": 21,
      "outputs": [
        {
          "output_type": "stream",
          "name": "stdout",
          "text": [
            "[1, 2, 3, 4, 5, 6, 7]\n"
          ]
        }
      ]
    },
    {
      "cell_type": "code",
      "source": [],
      "metadata": {
        "id": "0BvzVufgIc1C"
      },
      "execution_count": null,
      "outputs": []
    }
  ]
}
