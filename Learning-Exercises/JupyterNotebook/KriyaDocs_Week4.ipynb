{
  "nbformat": 4,
  "nbformat_minor": 0,
  "metadata": {
    "colab": {
      "provenance": [],
      "authorship_tag": "ABX9TyMivirn0U1DoSrwUZbXeG5u"
    },
    "kernelspec": {
      "name": "python3",
      "display_name": "Python 3"
    },
    "language_info": {
      "name": "python"
    }
  },
  "cells": [
    {
      "cell_type": "code",
      "execution_count": 1,
      "metadata": {
        "colab": {
          "base_uri": "https://localhost:8080/"
        },
        "id": "yyIkAsR4vyCt",
        "outputId": "9e604bf0-35e1-4afa-a45b-77a546826b4a"
      },
      "outputs": [
        {
          "output_type": "stream",
          "name": "stdout",
          "text": [
            "hello world\n"
          ]
        }
      ],
      "source": [
        "print(\"hello world\")"
      ]
    },
    {
      "cell_type": "code",
      "source": [],
      "metadata": {
        "id": "o3IC3kl6BZFr"
      },
      "execution_count": null,
      "outputs": []
    },
    {
      "cell_type": "code",
      "source": [
        "# Reading a CSV File\n",
        "\n",
        "import csv\n",
        "\n",
        "filename = \"annual-enterprise-survey-2021-financial-year-provisional-csv.csv\"\n",
        " \n",
        "# initializing the titles and rows list\n",
        "fields = []\n",
        "rows = []\n",
        " \n",
        "with open(filename, 'r') as csvfile:\n",
        "    csvreader = csv.reader(csvfile)\n",
        "    fields = next(csvreader)\n",
        "    for row in csvreader:\n",
        "        rows.append(row)\n",
        " \n",
        "    print(\"Total no. of rows: %d\"%(csvreader.line_num))\n",
        " \n",
        "\n",
        "print('Field names are:' + ', '.join(field for field in fields))\n",
        "print('\\nFirst 5 rows are:\\n')\n",
        "for row in rows[:5]:\n",
        "    for col in row:\n",
        "        print(\"%10s\"%col,end=\" \"),\n",
        "    print('\\n')"
      ],
      "metadata": {
        "colab": {
          "base_uri": "https://localhost:8080/"
        },
        "id": "3bLZHSkJwCow",
        "outputId": "9a8ad194-06ff-4993-a39b-8c21266b3edd"
      },
      "execution_count": 3,
      "outputs": [
        {
          "output_type": "stream",
          "name": "stdout",
          "text": [
            "Total no. of rows: 41716\n",
            "Field names are:Year, Industry_aggregation_NZSIOC, Industry_code_NZSIOC, Industry_name_NZSIOC, Units, Variable_code, Variable_name, Variable_category, Value, Industry_code_ANZSIC06\n",
            "\n",
            "First 5 rows are:\n",
            "\n",
            "      2021    Level 1      99999 All industries Dollars (millions)        H01 Total income Financial performance    757,504 ANZSIC06 divisions A-S (excluding classes K6330, L6711, O7552, O760, O771, O772, S9540, S9601, S9602, and S9603) \n",
            "\n",
            "      2021    Level 1      99999 All industries Dollars (millions)        H04 Sales, government funding, grants and subsidies Financial performance    674,890 ANZSIC06 divisions A-S (excluding classes K6330, L6711, O7552, O760, O771, O772, S9540, S9601, S9602, and S9603) \n",
            "\n",
            "      2021    Level 1      99999 All industries Dollars (millions)        H05 Interest, dividends and donations Financial performance     49,593 ANZSIC06 divisions A-S (excluding classes K6330, L6711, O7552, O760, O771, O772, S9540, S9601, S9602, and S9603) \n",
            "\n",
            "      2021    Level 1      99999 All industries Dollars (millions)        H07 Non-operating income Financial performance     33,020 ANZSIC06 divisions A-S (excluding classes K6330, L6711, O7552, O760, O771, O772, S9540, S9601, S9602, and S9603) \n",
            "\n",
            "      2021    Level 1      99999 All industries Dollars (millions)        H08 Total expenditure Financial performance    654,404 ANZSIC06 divisions A-S (excluding classes K6330, L6711, O7552, O760, O771, O772, S9540, S9601, S9602, and S9603) \n",
            "\n"
          ]
        }
      ]
    },
    {
      "cell_type": "code",
      "source": [
        "# Writing to a CSV File\n",
        "\n",
        "import csv\n",
        " \n",
        "# field names\n",
        "fields = ['Name', 'Branch', 'Year', 'CGPA']\n",
        " \n",
        "# data rows of csv file\n",
        "rows = [ ['LN', 'COE', '2', '9.0'],\n",
        "        ['Sanchit', 'COE', '2', '9.1'],\n",
        "        ['Aditya', 'IT', '2', '9.3'],\n",
        "        ['Sagar', 'SE', '1', '9.5'],\n",
        "        ['Prateek', 'MCE', '3', '7.8'],\n",
        "        ['Sahil', 'EP', '2', '9.1']]\n",
        " \n",
        "# name of csv file\n",
        "filename = \"university_records.csv\"\n",
        " \n",
        "# writing to csv file\n",
        "with open(filename, 'w') as csvfile:\n",
        "    # creating a csv writer object\n",
        "    csvwriter = csv.writer(csvfile)\n",
        "     \n",
        "    # writing the fields\n",
        "    csvwriter.writerow(fields)\n",
        "     \n",
        "    # writing the data rows\n",
        "    csvwriter.writerows(rows)"
      ],
      "metadata": {
        "id": "pymQN5O7xRNx"
      },
      "execution_count": 4,
      "outputs": []
    },
    {
      "cell_type": "markdown",
      "source": [],
      "metadata": {
        "id": "sPtRBz6n3gyV"
      }
    },
    {
      "cell_type": "code",
      "source": [],
      "metadata": {
        "id": "EU_MQkOv219M"
      },
      "execution_count": null,
      "outputs": []
    },
    {
      "cell_type": "code",
      "source": [
        "# Read a CSV file with name, number, street, city, state, pin and create a new file containing state, city,number of houses in the state/city into another CSV file\n",
        "\n",
        "# Without Pandas\n",
        "\n",
        "import csv\n",
        "\n",
        "filename = \"example.csv\"\n",
        "fields = []\n",
        "rows = []\n",
        " \n",
        "with open(filename, 'r') as csvfile:\n",
        "    csvreader = csv.reader(csvfile)\n",
        "    fields = next(csvreader)\n",
        "    print(\"Total no. of rows: %d\"%(csvreader.line_num))\n",
        "    with open('createdAsPerRequest.csv', 'w') as new_file:\n",
        "      field=['state','city','number']\n",
        "      csvwriter = csv.writer(new_file)\n",
        "      for row in csvreader:\n",
        "        csvwriter.writerow((row[1],row[3],row[4]))\n",
        "      # csvwriter.writerow(field)\n",
        "      # csvwriter.writerows(rows)\n"
      ],
      "metadata": {
        "colab": {
          "base_uri": "https://localhost:8080/"
        },
        "id": "FbzkH2TP2Gaf",
        "outputId": "3832f9fe-3281-4327-e886-7d9ecc891bfc"
      },
      "execution_count": 30,
      "outputs": [
        {
          "output_type": "stream",
          "name": "stdout",
          "text": [
            "Total no. of rows: 1\n",
            "Field names are:name, number, street, city, state, pin\n"
          ]
        }
      ]
    },
    {
      "cell_type": "code",
      "source": [
        "# Read a CSV file with name, number, street, city, state, pin and create a new file containing state, city,number of houses in the state/city into another CSV file\n",
        "\n",
        "# With Pandas\n",
        "\n",
        "# import pandas with shortcut 'pd'\n",
        "import pandas as pd\n",
        "\n",
        "# read_csv function which is used to read the required CSV file\n",
        "data = pd.read_csv('example.csv')\n",
        "\n",
        "# display\n",
        "print(\"Original 'input.csv' CSV Data: \\n\")\n",
        "print(data)\n",
        "\n",
        "new_data=data\n",
        "new_data.pop('name')\n",
        "new_data.pop('street')\n",
        "new_data.pop('pin')\n",
        "# pop function which is used in removing or deleting columns from the CSV files\n",
        "# data.pop('year')\n",
        "\n",
        "# display\n",
        "print(\"\\nCSV Data after deleting the column 'year':\\n\")\n",
        "print(new_data)\n",
        "field=['state','city','number']\n",
        "df = pd.DataFrame(new_data)\n",
        "df.to_csv('pandasCreation.csv')"
      ],
      "metadata": {
        "colab": {
          "base_uri": "https://localhost:8080/"
        },
        "id": "EvkcRKdM2-ye",
        "outputId": "75c1f1bb-49ff-48a7-dd66-f45ff198f83e"
      },
      "execution_count": 38,
      "outputs": [
        {
          "output_type": "stream",
          "name": "stdout",
          "text": [
            "Original 'input.csv' CSV Data: \n",
            "\n",
            "  name  number      street       city state  pin\n",
            "0   LN     100  NehruNagar  Ramapuram    TN   89\n",
            "1   LN     100  NehruNagar  Ramapuram    TN   89\n",
            "2   LN     100  NehruNagar  Ramapuram    TN   89\n",
            "3   LN     100  NehruNagar  Ramapuram    TN   89\n",
            "4   LN     100  NehruNagar  Ramapuram    TN   89\n",
            "\n",
            "CSV Data after deleting the column 'year':\n",
            "\n",
            "   number       city state\n",
            "0     100  Ramapuram    TN\n",
            "1     100  Ramapuram    TN\n",
            "2     100  Ramapuram    TN\n",
            "3     100  Ramapuram    TN\n",
            "4     100  Ramapuram    TN\n"
          ]
        }
      ]
    },
    {
      "cell_type": "code",
      "source": [],
      "metadata": {
        "id": "fbfKAxI3ABPF"
      },
      "execution_count": null,
      "outputs": []
    }
  ]
}
